{
  "nbformat": 4,
  "nbformat_minor": 0,
  "metadata": {
    "colab": {
      "name": "gitconfig.ipynb",
      "provenance": [],
      "collapsed_sections": [],
      "authorship_tag": "ABX9TyMae5gaS6OWav6D1hJUtxfO",
      "include_colab_link": true
    },
    "kernelspec": {
      "name": "python3",
      "display_name": "Python 3"
    }
  },
  "cells": [
    {
      "cell_type": "markdown",
      "metadata": {
        "id": "view-in-github",
        "colab_type": "text"
      },
      "source": [
        "<a href=\"https://colab.research.google.com/github/8luebottle/Dear-Future-Me/blob/main/gitconfig.ipynb\" target=\"_parent\"><img src=\"https://colab.research.google.com/assets/colab-badge.svg\" alt=\"Open In Colab\"/></a>"
      ]
    },
    {
      "cell_type": "markdown",
      "metadata": {
        "id": "WVnDhBgXS1CS"
      },
      "source": [
        "## Personal Git Config Setup\n",
        "\n",
        "```\n",
        "[alias]\n",
        "        br = branch\n",
        "        bl = blame --pretty=format:'%C(yellow)%h%C(bold green)%Creset%x09%an%C(bold blue)%x09%ad%x09%s' --date=short\n",
        "        ch = checkout\n",
        "        cm = commit\n",
        "        ps = push\n",
        "        pl = pull\n",
        "        ss = stash show\n",
        "        st = status\n",
        "        us = upstream\n",
        "        hide = update-index --assume-unchanged\n",
        "        show = updage-index --no-assume-unchanged\n",
        "        # ll == log long  | ls == log short\n",
        "        ll = log --decorate --stat --graph --pretty=format:'%d %C(bold green)%h%Creset (%ar - %C(bold blue)%an%Creset), %n%n %s%n'\n",
        "        ls = log --graph --date=format:'%Y/%m/%d' --pretty=format:'%C(auto)%h%d%Creset %C(bold green)(%ad)%Creset %C(bold blue)%aN %Creset %s'\n",
        "\n",
        "[blame]\n",
        "        coloring = highlightRecent\n",
        "        coloring = repeeatedLines\n",
        "\n",
        "[color]\n",
        "        ui = true\n",
        "\n",
        "[color \"branch\"]\n",
        "        current = bold blue\n",
        "        remote = green\n",
        "        local = yellow\n",
        "\n",
        "[color \"diff-highlight\"]\n",
        "        newHighlight = green 157\n",
        "        oldHighlight = Red\n",
        "\n",
        "[core]\n",
        "        editor = vim\n",
        "\n",
        "[condential]\n",
        "        helper = store\n",
        "\n",
        "[filter \"lfs\"]\n",
        "        clean = git-lfs clean -- %f\n",
        "        smudge = git-lfs smudge -- %f\n",
        "        process = git-lfs filter-process\n",
        "        required = true\n",
        "\n",
        "[merge]\n",
        "        tool = vimdiff\n",
        "\n",
        "[diff]\n",
        "        renames = true\n",
        "```\n",
        "\n"
      ]
    }
  ]
}
