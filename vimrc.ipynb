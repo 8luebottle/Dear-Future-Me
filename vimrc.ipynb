{
  "nbformat": 4,
  "nbformat_minor": 0,
  "metadata": {
    "colab": {
      "provenance": [],
      "authorship_tag": "ABX9TyNYnVMur4yFkl9TtnGJGC9j",
      "include_colab_link": true
    },
    "kernelspec": {
      "name": "python3",
      "display_name": "Python 3"
    },
    "language_info": {
      "name": "python"
    }
  },
  "cells": [
    {
      "cell_type": "markdown",
      "metadata": {
        "id": "view-in-github",
        "colab_type": "text"
      },
      "source": [
        "<a href=\"https://colab.research.google.com/github/8luebottle/Dear-Future-Me/blob/main/vimrc.ipynb\" target=\"_parent\"><img src=\"https://colab.research.google.com/assets/colab-badge.svg\" alt=\"Open In Colab\"/></a>"
      ]
    },
    {
      "cell_type": "markdown",
      "source": [
        "# Personal vimrc Setup\n",
        "\n",
        "```shell\n",
        "syntax on\n",
        "set autoindent\n",
        "set ai\n",
        "set cpt\n",
        "set cul\n",
        "set history=100\n",
        "set hlsearch\n",
        "set incsearch\n",
        "set ls=2 \"last status\"\n",
        "set mps=(:),{:},[:],<:> \"match pairs\"\n",
        "set nu\n",
        "set tabstop=4\n",
        "set t_Co=256\n",
        "set vb\n",
        "autocmd BufNewFile,BufRead *.go colorscheme gitgo\n",
        "```\n",
        "\n",
        "### Resource\n",
        "- [gitgo](https://github.com/bitfield/vim-gitgo)\n",
        "\n"
      ],
      "metadata": {
        "id": "PVXi_Y897trh"
      }
    }
  ]
}